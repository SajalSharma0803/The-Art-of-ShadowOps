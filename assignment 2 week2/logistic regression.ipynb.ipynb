{
  "nbformat": 4,
  "nbformat_minor": 0,
  "metadata": {
    "colab": {
      "provenance": []
    },
    "kernelspec": {
      "name": "python3",
      "display_name": "Python 3"
    },
    "language_info": {
      "name": "python"
    }
  },
  "cells": [
    {
      "cell_type": "code",
      "execution_count": 27,
      "metadata": {
        "id": "kIcPVZME2lqk"
      },
      "outputs": [],
      "source": [
        "# 1. Load a classification dataset using scikit-learn\n",
        "from sklearn.datasets import load_iris\n",
        "from sklearn.model_selection import train_test_split\n",
        "from sklearn.linear_model import LogisticRegression\n",
        "from sklearn.metrics import accuracy_score\n",
        "import numpy as np"
      ]
    },
    {
      "cell_type": "code",
      "source": [
        "# Load the Iris dataset\n",
        "data = load_iris()\n",
        "X, y = data.data, data.target"
      ],
      "metadata": {
        "id": "WxV00DkN21Rx"
      },
      "execution_count": 28,
      "outputs": []
    },
    {
      "cell_type": "code",
      "source": [
        "# 2. Split the dataset into training and testing sets\n",
        "X_train, X_test, y_train, y_test = train_test_split(X, y, test_size=0.2, random_state=42)"
      ],
      "metadata": {
        "id": "S6H2raXS27DI"
      },
      "execution_count": 29,
      "outputs": []
    },
    {
      "cell_type": "code",
      "source": [
        "# 3. Create and train a logistic regression model\n",
        "log_reg = LogisticRegression(max_iter=200)\n",
        "log_reg.fit(X_train, y_train)\n"
      ],
      "metadata": {
        "colab": {
          "base_uri": "https://localhost:8080/",
          "height": 75
        },
        "id": "8zkqQUHD3Dup",
        "outputId": "157d7d01-ded8-4708-92a6-2f109c1479b8"
      },
      "execution_count": 30,
      "outputs": [
        {
          "output_type": "execute_result",
          "data": {
            "text/plain": [
              "LogisticRegression(max_iter=200)"
            ],
            "text/html": [
              "<style>#sk-container-id-2 {color: black;background-color: white;}#sk-container-id-2 pre{padding: 0;}#sk-container-id-2 div.sk-toggleable {background-color: white;}#sk-container-id-2 label.sk-toggleable__label {cursor: pointer;display: block;width: 100%;margin-bottom: 0;padding: 0.3em;box-sizing: border-box;text-align: center;}#sk-container-id-2 label.sk-toggleable__label-arrow:before {content: \"▸\";float: left;margin-right: 0.25em;color: #696969;}#sk-container-id-2 label.sk-toggleable__label-arrow:hover:before {color: black;}#sk-container-id-2 div.sk-estimator:hover label.sk-toggleable__label-arrow:before {color: black;}#sk-container-id-2 div.sk-toggleable__content {max-height: 0;max-width: 0;overflow: hidden;text-align: left;background-color: #f0f8ff;}#sk-container-id-2 div.sk-toggleable__content pre {margin: 0.2em;color: black;border-radius: 0.25em;background-color: #f0f8ff;}#sk-container-id-2 input.sk-toggleable__control:checked~div.sk-toggleable__content {max-height: 200px;max-width: 100%;overflow: auto;}#sk-container-id-2 input.sk-toggleable__control:checked~label.sk-toggleable__label-arrow:before {content: \"▾\";}#sk-container-id-2 div.sk-estimator input.sk-toggleable__control:checked~label.sk-toggleable__label {background-color: #d4ebff;}#sk-container-id-2 div.sk-label input.sk-toggleable__control:checked~label.sk-toggleable__label {background-color: #d4ebff;}#sk-container-id-2 input.sk-hidden--visually {border: 0;clip: rect(1px 1px 1px 1px);clip: rect(1px, 1px, 1px, 1px);height: 1px;margin: -1px;overflow: hidden;padding: 0;position: absolute;width: 1px;}#sk-container-id-2 div.sk-estimator {font-family: monospace;background-color: #f0f8ff;border: 1px dotted black;border-radius: 0.25em;box-sizing: border-box;margin-bottom: 0.5em;}#sk-container-id-2 div.sk-estimator:hover {background-color: #d4ebff;}#sk-container-id-2 div.sk-parallel-item::after {content: \"\";width: 100%;border-bottom: 1px solid gray;flex-grow: 1;}#sk-container-id-2 div.sk-label:hover label.sk-toggleable__label {background-color: #d4ebff;}#sk-container-id-2 div.sk-serial::before {content: \"\";position: absolute;border-left: 1px solid gray;box-sizing: border-box;top: 0;bottom: 0;left: 50%;z-index: 0;}#sk-container-id-2 div.sk-serial {display: flex;flex-direction: column;align-items: center;background-color: white;padding-right: 0.2em;padding-left: 0.2em;position: relative;}#sk-container-id-2 div.sk-item {position: relative;z-index: 1;}#sk-container-id-2 div.sk-parallel {display: flex;align-items: stretch;justify-content: center;background-color: white;position: relative;}#sk-container-id-2 div.sk-item::before, #sk-container-id-2 div.sk-parallel-item::before {content: \"\";position: absolute;border-left: 1px solid gray;box-sizing: border-box;top: 0;bottom: 0;left: 50%;z-index: -1;}#sk-container-id-2 div.sk-parallel-item {display: flex;flex-direction: column;z-index: 1;position: relative;background-color: white;}#sk-container-id-2 div.sk-parallel-item:first-child::after {align-self: flex-end;width: 50%;}#sk-container-id-2 div.sk-parallel-item:last-child::after {align-self: flex-start;width: 50%;}#sk-container-id-2 div.sk-parallel-item:only-child::after {width: 0;}#sk-container-id-2 div.sk-dashed-wrapped {border: 1px dashed gray;margin: 0 0.4em 0.5em 0.4em;box-sizing: border-box;padding-bottom: 0.4em;background-color: white;}#sk-container-id-2 div.sk-label label {font-family: monospace;font-weight: bold;display: inline-block;line-height: 1.2em;}#sk-container-id-2 div.sk-label-container {text-align: center;}#sk-container-id-2 div.sk-container {/* jupyter's `normalize.less` sets `[hidden] { display: none; }` but bootstrap.min.css set `[hidden] { display: none !important; }` so we also need the `!important` here to be able to override the default hidden behavior on the sphinx rendered scikit-learn.org. See: https://github.com/scikit-learn/scikit-learn/issues/21755 */display: inline-block !important;position: relative;}#sk-container-id-2 div.sk-text-repr-fallback {display: none;}</style><div id=\"sk-container-id-2\" class=\"sk-top-container\"><div class=\"sk-text-repr-fallback\"><pre>LogisticRegression(max_iter=200)</pre><b>In a Jupyter environment, please rerun this cell to show the HTML representation or trust the notebook. <br />On GitHub, the HTML representation is unable to render, please try loading this page with nbviewer.org.</b></div><div class=\"sk-container\" hidden><div class=\"sk-item\"><div class=\"sk-estimator sk-toggleable\"><input class=\"sk-toggleable__control sk-hidden--visually\" id=\"sk-estimator-id-2\" type=\"checkbox\" checked><label for=\"sk-estimator-id-2\" class=\"sk-toggleable__label sk-toggleable__label-arrow\">LogisticRegression</label><div class=\"sk-toggleable__content\"><pre>LogisticRegression(max_iter=200)</pre></div></div></div></div></div>"
            ]
          },
          "metadata": {},
          "execution_count": 30
        }
      ]
    },
    {
      "cell_type": "code",
      "source": [
        "# 4. Make predictions on the test set\n",
        "y_pred = log_reg.predict(X_test)"
      ],
      "metadata": {
        "id": "LKj9T3_U3Gj7"
      },
      "execution_count": 31,
      "outputs": []
    },
    {
      "cell_type": "code",
      "source": [
        "# Print out the predictions\n",
        "print(\"Predicted class labels for the test set:\")\n",
        "print(y_pred)"
      ],
      "metadata": {
        "colab": {
          "base_uri": "https://localhost:8080/"
        },
        "id": "kmCtwwTn3LmJ",
        "outputId": "e9966580-a474-4c71-db03-93a9557511f7"
      },
      "execution_count": 32,
      "outputs": [
        {
          "output_type": "stream",
          "name": "stdout",
          "text": [
            "Predicted class labels for the test set:\n",
            "[1 0 2 1 1 0 1 2 1 1 2 0 0 0 0 1 2 1 1 2 0 2 0 2 2 2 2 2 0 0]\n"
          ]
        }
      ]
    },
    {
      "cell_type": "code",
      "source": [
        "# 5. Calculate and display the accuracy of the model\n",
        "accuracy = accuracy_score(y_test, y_pred)\n",
        "print(f\"Accuracy of the logistic regression model: {accuracy:.2f}\")\n"
      ],
      "metadata": {
        "colab": {
          "base_uri": "https://localhost:8080/"
        },
        "id": "7DMQ7w7z3ncI",
        "outputId": "051f3767-d909-425b-e543-e65bf74cd1a1"
      },
      "execution_count": 33,
      "outputs": [
        {
          "output_type": "stream",
          "name": "stdout",
          "text": [
            "Accuracy of the logistic regression model: 1.00\n"
          ]
        }
      ]
    },
    {
      "cell_type": "code",
      "source": [
        "print(\"\\nActual labels vs. Predicted labels:\")\n",
        "for actual, predicted in zip(y_test, y_pred):\n",
        "    print(f\"Actual: {actual}, Predicted: {predicted}\")"
      ],
      "metadata": {
        "colab": {
          "base_uri": "https://localhost:8080/"
        },
        "id": "jzhoiiNP3yHh",
        "outputId": "2977fc11-dec2-44ce-fc0a-b485aa6008f3"
      },
      "execution_count": 34,
      "outputs": [
        {
          "output_type": "stream",
          "name": "stdout",
          "text": [
            "\n",
            "Actual labels vs. Predicted labels:\n",
            "Actual: 1, Predicted: 1\n",
            "Actual: 0, Predicted: 0\n",
            "Actual: 2, Predicted: 2\n",
            "Actual: 1, Predicted: 1\n",
            "Actual: 1, Predicted: 1\n",
            "Actual: 0, Predicted: 0\n",
            "Actual: 1, Predicted: 1\n",
            "Actual: 2, Predicted: 2\n",
            "Actual: 1, Predicted: 1\n",
            "Actual: 1, Predicted: 1\n",
            "Actual: 2, Predicted: 2\n",
            "Actual: 0, Predicted: 0\n",
            "Actual: 0, Predicted: 0\n",
            "Actual: 0, Predicted: 0\n",
            "Actual: 0, Predicted: 0\n",
            "Actual: 1, Predicted: 1\n",
            "Actual: 2, Predicted: 2\n",
            "Actual: 1, Predicted: 1\n",
            "Actual: 1, Predicted: 1\n",
            "Actual: 2, Predicted: 2\n",
            "Actual: 0, Predicted: 0\n",
            "Actual: 2, Predicted: 2\n",
            "Actual: 0, Predicted: 0\n",
            "Actual: 2, Predicted: 2\n",
            "Actual: 2, Predicted: 2\n",
            "Actual: 2, Predicted: 2\n",
            "Actual: 2, Predicted: 2\n",
            "Actual: 2, Predicted: 2\n",
            "Actual: 0, Predicted: 0\n",
            "Actual: 0, Predicted: 0\n"
          ]
        }
      ]
    },
    {
      "cell_type": "code",
      "source": [
        "def sigmoid(z):\n",
        "    return 1 / (1 + np.exp(-z))"
      ],
      "metadata": {
        "id": "iaKIVitl5Rda"
      },
      "execution_count": 35,
      "outputs": []
    },
    {
      "cell_type": "code",
      "source": [
        "def cost_function(h, y):\n",
        "    return (-y * np.log(h) - (1 - y) * np.log(1 - h)).mean()"
      ],
      "metadata": {
        "id": "Tg553yrc5VJH"
      },
      "execution_count": 36,
      "outputs": []
    },
    {
      "cell_type": "code",
      "source": [
        "# Gradient descent function to minimize the logistic regression cost function\n",
        "def gradient_descent(X, h, y):\n",
        "    return np.dot(X.T, (h - y)) / y.shape[0]"
      ],
      "metadata": {
        "id": "-nOd48275Y_n"
      },
      "execution_count": 37,
      "outputs": []
    },
    {
      "cell_type": "code",
      "source": [
        "# Function to train the logistic regression model\n",
        "def train_logistic_regression(X, y, num_steps, learning_rate):\n",
        "    # Add intercept term to X\n",
        "    intercept = np.ones((X.shape[0], 1))\n",
        "    X = np.concatenate((intercept, X), axis=1)\n",
        "\n",
        "    # Initialize weights\n",
        "    weights = np.zeros(X.shape[1])\n",
        "\n",
        "    # Perform gradient descent\n",
        "    for step in range(num_steps):\n",
        "        z = np.dot(X, weights)\n",
        "        h = sigmoid(z)\n",
        "        gradient = gradient_descent(X, h, y)\n",
        "        weights -= learning_rate * gradient\n",
        "\n",
        "        # Print the cost every 1000 iterations\n",
        "        if step % 1000 == 0:\n",
        "            print(f\"Cost at step {step}: {cost_function(h, y)}\")\n",
        "\n",
        "    return weights"
      ],
      "metadata": {
        "id": "dhbFcyp-5amC"
      },
      "execution_count": 38,
      "outputs": []
    },
    {
      "cell_type": "code",
      "source": [
        "# Function to predict labels using logistic regression\n",
        "def predict_logistic_regression(X, weights):\n",
        "    # Add intercept term to X\n",
        "    intercept = np.ones((X.shape[0], 1))\n",
        "    X = np.concatenate((intercept, X), axis=1)\n",
        "\n",
        "    # Predict probabilities\n",
        "    probabilities = sigmoid(np.dot(X, weights))\n",
        "    # Convert probabilities to 0 or 1 using a threshold of 0.5\n",
        "    return np.array([1 if p >= 0.5 else 0 for p in probabilities])"
      ],
      "metadata": {
        "id": "y_nRMgyG5gDq"
      },
      "execution_count": 39,
      "outputs": []
    },
    {
      "cell_type": "code",
      "source": [
        "# For simplicity, let's convert it to a binary classification problem\n",
        "# by only using class 0 and class 1\n",
        "binary_filter = y < 2\n",
        "X, y = X[binary_filter], y[binary_filter]"
      ],
      "metadata": {
        "id": "N5eO9n_B5xnU"
      },
      "execution_count": 41,
      "outputs": []
    },
    {
      "cell_type": "code",
      "source": [
        "# Split the dataset into training and testing sets (as before)\n",
        "X_train, X_test, y_train, y_test = train_test_split(X, y, test_size=0.2, random_state=42)\n"
      ],
      "metadata": {
        "id": "kXhMTih750jS"
      },
      "execution_count": 42,
      "outputs": []
    },
    {
      "cell_type": "code",
      "source": [
        "# 2. Train your custom logistic regression model using the same dataset\n",
        "weights = train_logistic_regression(X_train, y_train, num_steps=30000, learning_rate=0.1)"
      ],
      "metadata": {
        "colab": {
          "base_uri": "https://localhost:8080/"
        },
        "id": "IVuR01N353bx",
        "outputId": "c113d096-5f13-42d5-8fa9-537ceb98724e"
      },
      "execution_count": 43,
      "outputs": [
        {
          "output_type": "stream",
          "name": "stdout",
          "text": [
            "Cost at step 0: 0.6931471805599453\n",
            "Cost at step 1000: 0.008180869223862807\n",
            "Cost at step 2000: 0.004342363918026025\n",
            "Cost at step 3000: 0.0030039139463461\n",
            "Cost at step 4000: 0.002314223425170706\n",
            "Cost at step 5000: 0.0018907803246513415\n",
            "Cost at step 6000: 0.0016031581590757755\n",
            "Cost at step 7000: 0.0013944476402037108\n",
            "Cost at step 8000: 0.0012357633407562168\n",
            "Cost at step 9000: 0.0011108479741958797\n",
            "Cost at step 10000: 0.0010098346129687058\n",
            "Cost at step 11000: 0.0009263793634768574\n",
            "Cost at step 12000: 0.0008562132926715649\n",
            "Cost at step 13000: 0.0007963556074412762\n",
            "Cost at step 14000: 0.0007446603055388856\n",
            "Cost at step 15000: 0.0006995420812116412\n",
            "Cost at step 16000: 0.0006598037970570556\n",
            "Cost at step 17000: 0.0006245241062817682\n",
            "Cost at step 18000: 0.0005929820670522065\n",
            "Cost at step 19000: 0.0005646052598111964\n",
            "Cost at step 20000: 0.0005389332676487477\n",
            "Cost at step 21000: 0.0005155914534008451\n",
            "Cost at step 22000: 0.0004942717928622528\n",
            "Cost at step 23000: 0.00047471864032302264\n",
            "Cost at step 24000: 0.0004567180039580628\n",
            "Cost at step 25000: 0.00044008935947136257\n",
            "Cost at step 26000: 0.00042467932647333737\n",
            "Cost at step 27000: 0.00041035673027240555\n",
            "Cost at step 28000: 0.000397008706793361\n",
            "Cost at step 29000: 0.000384537601816963\n"
          ]
        }
      ]
    },
    {
      "cell_type": "code",
      "source": [
        "# 3. Make predictions on the test set\n",
        "y_pred = predict_logistic_regression(X_test, weights)\n",
        "# 4. Calculate and display the accuracy of your custom model\n",
        "accuracy = accuracy_score(y_test, y_pred)\n",
        "print(f\"Accuracy of the custom logistic regression model: {accuracy:.2f}\")"
      ],
      "metadata": {
        "colab": {
          "base_uri": "https://localhost:8080/"
        },
        "id": "EkOeHcRa6at1",
        "outputId": "23eb8402-7ee1-4ea4-d8d2-2416da6358ac"
      },
      "execution_count": 44,
      "outputs": [
        {
          "output_type": "stream",
          "name": "stdout",
          "text": [
            "Accuracy of the custom logistic regression model: 1.00\n"
          ]
        }
      ]
    }
  ]
}